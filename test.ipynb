{
 "cells": [
  {
   "cell_type": "code",
   "execution_count": 1,
   "id": "081b72d4",
   "metadata": {},
   "outputs": [],
   "source": [
    "import os\n",
    "from langchain_community.document_loaders import PyPDFLoader\n",
    "from langchain.text_splitter import RecursiveCharacterTextSplitter\n",
    "from langchain_chroma import Chroma\n",
    "from langchain_openai import OpenAIEmbeddings, ChatOpenAI\n",
    "from langchain.chains import RetrievalQA\n",
    "from fastapi import FastAPI\n",
    "from pydantic import BaseModel\n",
    "from dotenv import load_dotenv\n",
    "from chromadb.config import Settings\n",
    "import time"
   ]
  },
  {
   "cell_type": "code",
   "execution_count": null,
   "id": "3a0683cc",
   "metadata": {},
   "outputs": [],
   "source": [
    "load_dotenv()\n",
    "persist_directory = \"chroma_db\"\n",
    "\n",
    "# settings = Settings(persist_directory=persist_directory)\n"
   ]
  },
  {
   "cell_type": "code",
   "execution_count": null,
   "id": "1c9dec63",
   "metadata": {},
   "outputs": [
    {
     "ename": "",
     "evalue": "",
     "output_type": "error",
     "traceback": [
      "\u001b[1;31mThe Kernel crashed while executing code in the current cell or a previous cell. \n",
      "\u001b[1;31mPlease review the code in the cell(s) to identify a possible cause of the failure. \n",
      "\u001b[1;31mClick <a href='https://aka.ms/vscodeJupyterKernelCrash'>here</a> for more info. \n",
      "\u001b[1;31mView Jupyter <a href='command:jupyter.viewOutput'>log</a> for further details."
     ]
    }
   ],
   "source": [
    "embeddings = OpenAIEmbeddings(model=\"text-embedding-ada-002\")\n",
    "\n",
    "llm = ChatOpenAI(\n",
    "    model=\"gpt-4o-mini-2024-07-18\",\n",
    "    temperature=0\n",
    ")\n",
    "\n",
    "vector_db = Chroma(\n",
    "    # persist_directory=persist_directory,\n",
    "    embedding_function=embeddings,\n",
    "    # client_settings=settings\n",
    ")\n",
    "\n",
    "retriever = vector_db.as_retriever()\n"
   ]
  },
  {
   "cell_type": "code",
   "execution_count": null,
   "id": "07b1f8b2",
   "metadata": {},
   "outputs": [
    {
     "name": "stdout",
     "output_type": "stream",
     "text": [
      "🔍 Caricamento PDF...\n",
      " → Carico: data\\[RL1]IntroRL-1-8.pdf\n",
      "✂️  Split in chunk...\n",
      "📄 Totale chunk generati: 8\n",
      "\n",
      "🔹 Esempi di chunk:\n",
      "\n",
      "--- CHUNK 1 ---\n",
      "Intelligenza Artificiale\n",
      "a.a. 2024/2025\n",
      "Reinforcement Learning\n",
      "\n",
      "--- CHUNK 2 ---\n",
      "Intelligenza Artificiale                                                                                                     a.a. 2024/2025\n",
      "Libri di testo \n",
      " Richard S. Sutton and Andrew G. Barto, Reinforcement \n",
      "Learning: An Introduction, Second Edition, MIT Press \n",
      "(disponibile online) \n",
      " Reinforcem\n",
      "\n",
      "--- CHUNK 3 ---\n",
      "Intelligenza Artificiale                                                                                                     a.a. 2024/2025\n",
      "Outline\n",
      " Introduzione al Reinforcement Learning\n",
      " Formalizzazione del problema\n",
      " Agente basato su RL\n",
      " Problematiche\n",
      "\n",
      "⚙️  Setup embedding e Vector DB...\n",
      "\n",
      "🚀 Calcolo embedding di tutti i chunk in batch e salvataggio nel vector DB...\n"
     ]
    }
   ],
   "source": [
    "pdf_dir = \"data\"\n",
    "pdf_files = [os.path.join(pdf_dir, f) for f in os.listdir(pdf_dir) if f.endswith(\".pdf\")]\n",
    "\n",
    "docs = []\n",
    "for path in pdf_files:\n",
    "    loader = PyPDFLoader(path)\n",
    "    docs.extend(loader.load())\n",
    "\n",
    "print(\"Start processing...\")\n",
    "text_splitter = RecursiveCharacterTextSplitter(chunk_size=1000, chunk_overlap=200)\n",
    "texts = text_splitter.split_documents(docs)\n",
    "\n",
    "print(texts)\n",
    "print(len(texts))\n",
    "print(\"Add to db...\")\n",
    "vector_db.add_documents(texts)\n",
    "vector_db.persist()\n",
    "\n",
    "print(\"Ingestione completata con successo.\")\n"
   ]
  },
  {
   "cell_type": "code",
   "execution_count": null,
   "id": "bd1970ca",
   "metadata": {},
   "outputs": [],
   "source": [
    "query = \"How are graphs used to improve reasoning or retrieval in GraphRAG?\"\n",
    "\n",
    "retrieved_docs = retriever.invoke(query)\n",
    "\n",
    "for i, doc in enumerate(retrieved_docs):\n",
    "    print(f\"\\n--- Document {i + 1} ---\")\n",
    "    print(doc.page_content[:1000])  # Mostra i primi 1000 caratteri\n"
   ]
  },
  {
   "cell_type": "code",
   "execution_count": null,
   "id": "a87328f0",
   "metadata": {},
   "outputs": [],
   "source": []
  }
 ],
 "metadata": {
  "kernelspec": {
   "display_name": "venv",
   "language": "python",
   "name": "python3"
  },
  "language_info": {
   "codemirror_mode": {
    "name": "ipython",
    "version": 3
   },
   "file_extension": ".py",
   "mimetype": "text/x-python",
   "name": "python",
   "nbconvert_exporter": "python",
   "pygments_lexer": "ipython3",
   "version": "3.13.5"
  }
 },
 "nbformat": 4,
 "nbformat_minor": 5
}
