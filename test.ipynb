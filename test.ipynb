{
 "cells": [
  {
   "cell_type": "code",
   "execution_count": 1,
   "id": "081b72d4",
   "metadata": {},
   "outputs": [],
   "source": [
    "import os\n",
    "from langchain_community.document_loaders import PyPDFLoader\n",
    "from langchain.text_splitter import RecursiveCharacterTextSplitter\n",
    "from langchain_openai import OpenAIEmbeddings\n",
    "from langchain.chat_models import ChatOpenAI\n",
    "from langchain.vectorstores import FAISS\n",
    "from dotenv import load_dotenv"
   ]
  },
  {
   "cell_type": "code",
   "execution_count": 2,
   "id": "3a0683cc",
   "metadata": {},
   "outputs": [],
   "source": [
    "load_dotenv()\n",
    "persist_directory = \"chroma_db\"\n",
    "\n",
    "# settings = Settings(persist_directory=persist_directory)\n"
   ]
  },
  {
   "cell_type": "code",
   "execution_count": 3,
   "id": "1c9dec63",
   "metadata": {},
   "outputs": [
    {
     "name": "stderr",
     "output_type": "stream",
     "text": [
      "C:\\Users\\dario\\AppData\\Local\\Temp\\ipykernel_22500\\34073894.py:3: LangChainDeprecationWarning: The class `ChatOpenAI` was deprecated in LangChain 0.0.10 and will be removed in 1.0. An updated version of the class exists in the :class:`~langchain-openai package and should be used instead. To use it run `pip install -U :class:`~langchain-openai` and import as `from :class:`~langchain_openai import ChatOpenAI``.\n",
      "  llm = ChatOpenAI(\n"
     ]
    }
   ],
   "source": [
    "embeddings = OpenAIEmbeddings(model=\"text-embedding-ada-002\")\n",
    "\n",
    "llm = ChatOpenAI(\n",
    "    model=\"gpt-4o-mini-2024-07-18\",\n",
    "    temperature=0\n",
    ")\n"
   ]
  },
  {
   "cell_type": "code",
   "execution_count": 4,
   "id": "07b1f8b2",
   "metadata": {},
   "outputs": [
    {
     "name": "stdout",
     "output_type": "stream",
     "text": [
      " → Carico: data\\[RL1]IntroRL-1-8.pdf\n",
      "✂️  Split in chunk...\n",
      "Totale chunk generati: 8\n",
      "🚀 Costruisco il vector store FAISS...\n",
      "✅ Ingestione completata con successo (FAISS, in RAM).\n"
     ]
    }
   ],
   "source": [
    "pdf_dir = \"data\"\n",
    "pdf_files = [os.path.join(pdf_dir, f) for f in os.listdir(pdf_dir) if f.endswith(\".pdf\")]\n",
    "\n",
    "docs = []\n",
    "for path in pdf_files:\n",
    "    print(f\" → Carico: {path}\")\n",
    "    loader = PyPDFLoader(path)\n",
    "    docs.extend(loader.load())\n",
    "\n",
    "# --- Split dei documenti ---\n",
    "print(\"✂️  Split in chunk...\")\n",
    "text_splitter = RecursiveCharacterTextSplitter(chunk_size=1000, chunk_overlap=200)\n",
    "texts = text_splitter.split_documents(docs)\n",
    "print(f\"Totale chunk generati: {len(texts)}\")\n",
    "\n",
    "# --- Costruzione Vector DB in memoria con FAISS ---\n",
    "print(\"🚀 Costruisco il vector store FAISS...\")\n",
    "vector_db = FAISS.from_documents(texts, embeddings)\n",
    "\n",
    "# --- Retriever per future query ---\n",
    "retriever = vector_db.as_retriever()\n",
    "\n",
    "print(\"✅ Ingestione completata con successo (FAISS, in RAM).\")"
   ]
  },
  {
   "cell_type": "code",
   "execution_count": 5,
   "id": "bd1970ca",
   "metadata": {},
   "outputs": [
    {
     "name": "stdout",
     "output_type": "stream",
     "text": [
      "\n",
      "--- Document 1 ---\n",
      "Intelligenza Artificiale\n",
      "a.a. 2024/2025\n",
      "Reinforcement Learning\n",
      "\n",
      "--- Document 2 ---\n",
      "Intelligenza Artificiale                                                                                                     a.a. 2024/2025\n",
      "Problemi con l’apprendimento \n",
      "supervisionato\n",
      " Cosa c'è di sbagliato nell'apprendimento supervisionato?\n",
      " Un agente di apprendimento supervisionato apprende \n",
      "osservando passivamente l'esempio coppie ingresso/uscita \n",
      "fornite da un “insegnante”\n",
      " Possiamo addestrare l'agente di scacchi con l'apprendimento \n",
      "supervisionato?\n",
      " Dati: esempi di posizioni scacchistiche (ognuna etichettata con la \n",
      "corretta mossa)\n",
      " Training data disponibili per i vincitori: 108\n",
      " Lo spazio di tutte le possibili posizioni degli scacchi: 1040\n",
      " Gli scacchi non possono essere risolti con l'apprendimento \n",
      "supervisionato\n",
      "\n",
      "--- Document 3 ---\n",
      "Intelligenza Artificiale                                                                                                     a.a. 2024/2025\n",
      "Tipi di apprendimento\n",
      "\n",
      "--- Document 4 ---\n",
      "Intelligenza Artificiale                                                                                                     a.a. 2024/2025\n",
      "Posizionare il RL\n"
     ]
    }
   ],
   "source": [
    "query = \"How are graphs used to improve reasoning or retrieval in GraphRAG?\"\n",
    "\n",
    "retrieved_docs = retriever.invoke(query)\n",
    "\n",
    "for i, doc in enumerate(retrieved_docs):\n",
    "    print(f\"\\n--- Document {i + 1} ---\")\n",
    "    print(doc.page_content[:1000])  # Mostra i primi 1000 caratteri\n"
   ]
  },
  {
   "cell_type": "code",
   "execution_count": 6,
   "id": "a87328f0",
   "metadata": {},
   "outputs": [
    {
     "name": "stderr",
     "output_type": "stream",
     "text": [
      "C:\\Users\\dario\\AppData\\Local\\Temp\\ipykernel_22500\\2727519620.py:10: LangChainDeprecationWarning: The method `Chain.__call__` was deprecated in langchain 0.1.0 and will be removed in 1.0. Use :meth:`~invoke` instead.\n",
      "  result = qa_chain({\"query\": query})\n"
     ]
    },
    {
     "name": "stdout",
     "output_type": "stream",
     "text": [
      "\n",
      "🧠 Risposta generata:\n",
      "Il Reinforcement Learning (RL) è un paradigma di apprendimento automatico in cui un agente apprende a prendere decisioni attraverso l'interazione con un ambiente. A differenza di altri paradigmi di machine learning, nel RL non c'è supervisione diretta; l'agente riceve solo ricompense o penalità in base alle azioni che compie. Il feedback non è immediato e il tempo gioca un ruolo importante, poiché le azioni dell'agente influenzano le informazioni future che riceve. Questo approccio è particolarmente utile per problemi sequenziali e per situazioni in cui l'apprendimento deve avvenire in modo continuo.\n",
      "\n",
      "📄 Documenti utilizzati:\n",
      "• data\\[RL1]IntroRL-1-8.pdf:\n",
      "Intelligenza Artificiale                                                                                                     a.a. 2024/2025\n",
      "Caratteristiche del RL\n",
      " Cosa rende il Reinforcement Learning diverso dagli altri \n",
      "paradigmi di Machine Learning?\n",
      " Non c’è alcuna supervisione, solo ricompense\n",
      "\n",
      "• data\\[RL1]IntroRL-1-8.pdf:\n",
      "Intelligenza Artificiale\n",
      "a.a. 2024/2025\n",
      "Reinforcement Learning\n",
      "\n",
      "• data\\[RL1]IntroRL-1-8.pdf:\n",
      "Intelligenza Artificiale                                                                                                     a.a. 2024/2025\n",
      "Outline\n",
      " Introduzione al Reinforcement Learning\n",
      " Formalizzazione del problema\n",
      " Agente basato su RL\n",
      " Problematiche\n",
      "\n",
      "• data\\[RL1]IntroRL-1-8.pdf:\n",
      "Intelligenza Artificiale                                                                                                     a.a. 2024/2025\n",
      "Libri di testo \n",
      " Richard S. Sutton and Andrew G. Barto, Reinforcement \n",
      "Learning: An Introduction, Second Edition, MIT Press \n",
      "(disponibile online) \n",
      " Reinforcem\n",
      "\n"
     ]
    }
   ],
   "source": [
    "from langchain.chains import RetrievalQA\n",
    "qa_chain = RetrievalQA.from_chain_type(\n",
    "    llm=llm,\n",
    "    retriever=retriever,\n",
    "    return_source_documents=True  # utile per vedere i documenti usati\n",
    ")\n",
    "\n",
    "# Fai una domanda\n",
    "query = \"Che cos'è il Reinforcement Learning?\"\n",
    "result = qa_chain({\"query\": query})\n",
    "\n",
    "# Mostra la risposta\n",
    "print(\"\\n🧠 Risposta generata:\")\n",
    "print(result[\"result\"])\n",
    "\n",
    "# Mostra i documenti di supporto (opzionale)\n",
    "print(\"\\n📄 Documenti utilizzati:\")\n",
    "for doc in result[\"source_documents\"]:\n",
    "    print(f\"• {doc.metadata.get('source', 'N/A')}:\\n{doc.page_content[:300]}\\n\")"
   ]
  },
  {
   "cell_type": "code",
   "execution_count": null,
   "id": "3c9f3dbb",
   "metadata": {},
   "outputs": [],
   "source": []
  }
 ],
 "metadata": {
  "kernelspec": {
   "display_name": "venv",
   "language": "python",
   "name": "python3"
  },
  "language_info": {
   "codemirror_mode": {
    "name": "ipython",
    "version": 3
   },
   "file_extension": ".py",
   "mimetype": "text/x-python",
   "name": "python",
   "nbconvert_exporter": "python",
   "pygments_lexer": "ipython3",
   "version": "3.13.5"
  }
 },
 "nbformat": 4,
 "nbformat_minor": 5
}
